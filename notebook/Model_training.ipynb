{
 "cells": [
  {
   "cell_type": "markdown",
   "id": "ef229dcf",
   "metadata": {},
   "source": [
    "## Importing models , libraries"
   ]
  },
  {
   "cell_type": "code",
   "execution_count": 49,
   "id": "e8832425",
   "metadata": {},
   "outputs": [],
   "source": [
    "import numpy as np\n",
    "import pandas as pd\n",
    "import matplotlib.pyplot as plt \n",
    "%matplotlib inline\n",
    "import seaborn as sns \n",
    "import warnings\n",
    "warnings.filterwarnings('ignore')\n",
    "\n",
    "from sklearn.metrics import mean_squared_error , mean_absolute_error , r2_score\n",
    "from sklearn.neighbors import KNeighborsRegressor\n",
    "from sklearn.tree import DecisionTreeRegressor\n",
    "from sklearn.ensemble import RandomForestRegressor\n",
    "from sklearn.linear_model import LinearRegression , Ridge , Lasso\n",
    "from sklearn.svm import SVR\n",
    "from sklearn.model_selection import RandomizedSearchCV , train_test_split\n",
    "from catboost import CatBoostRegressor\n",
    "from xgboost import XGBRegressor"
   ]
  },
  {
   "cell_type": "markdown",
   "id": "f4eccca6",
   "metadata": {},
   "source": [
    "## Data loading , preprocessing "
   ]
  },
  {
   "cell_type": "code",
   "execution_count": 50,
   "id": "c4d4aa9b",
   "metadata": {},
   "outputs": [
    {
     "data": {
      "text/html": [
       "<div>\n",
       "<style scoped>\n",
       "    .dataframe tbody tr th:only-of-type {\n",
       "        vertical-align: middle;\n",
       "    }\n",
       "\n",
       "    .dataframe tbody tr th {\n",
       "        vertical-align: top;\n",
       "    }\n",
       "\n",
       "    .dataframe thead th {\n",
       "        text-align: right;\n",
       "    }\n",
       "</style>\n",
       "<table border=\"1\" class=\"dataframe\">\n",
       "  <thead>\n",
       "    <tr style=\"text-align: right;\">\n",
       "      <th></th>\n",
       "      <th>gender</th>\n",
       "      <th>race_ethnicity</th>\n",
       "      <th>parental_level_of_education</th>\n",
       "      <th>lunch</th>\n",
       "      <th>test_preparation_course</th>\n",
       "      <th>math_score</th>\n",
       "      <th>reading_score</th>\n",
       "      <th>writing_score</th>\n",
       "    </tr>\n",
       "  </thead>\n",
       "  <tbody>\n",
       "    <tr>\n",
       "      <th>0</th>\n",
       "      <td>female</td>\n",
       "      <td>group B</td>\n",
       "      <td>bachelor's degree</td>\n",
       "      <td>standard</td>\n",
       "      <td>none</td>\n",
       "      <td>72</td>\n",
       "      <td>72</td>\n",
       "      <td>74</td>\n",
       "    </tr>\n",
       "    <tr>\n",
       "      <th>1</th>\n",
       "      <td>female</td>\n",
       "      <td>group C</td>\n",
       "      <td>some college</td>\n",
       "      <td>standard</td>\n",
       "      <td>completed</td>\n",
       "      <td>69</td>\n",
       "      <td>90</td>\n",
       "      <td>88</td>\n",
       "    </tr>\n",
       "    <tr>\n",
       "      <th>2</th>\n",
       "      <td>female</td>\n",
       "      <td>group B</td>\n",
       "      <td>master's degree</td>\n",
       "      <td>standard</td>\n",
       "      <td>none</td>\n",
       "      <td>90</td>\n",
       "      <td>95</td>\n",
       "      <td>93</td>\n",
       "    </tr>\n",
       "    <tr>\n",
       "      <th>3</th>\n",
       "      <td>male</td>\n",
       "      <td>group A</td>\n",
       "      <td>associate's degree</td>\n",
       "      <td>free/reduced</td>\n",
       "      <td>none</td>\n",
       "      <td>47</td>\n",
       "      <td>57</td>\n",
       "      <td>44</td>\n",
       "    </tr>\n",
       "    <tr>\n",
       "      <th>4</th>\n",
       "      <td>male</td>\n",
       "      <td>group C</td>\n",
       "      <td>some college</td>\n",
       "      <td>standard</td>\n",
       "      <td>none</td>\n",
       "      <td>76</td>\n",
       "      <td>78</td>\n",
       "      <td>75</td>\n",
       "    </tr>\n",
       "  </tbody>\n",
       "</table>\n",
       "</div>"
      ],
      "text/plain": [
       "   gender race_ethnicity parental_level_of_education         lunch  \\\n",
       "0  female        group B           bachelor's degree      standard   \n",
       "1  female        group C                some college      standard   \n",
       "2  female        group B             master's degree      standard   \n",
       "3    male        group A          associate's degree  free/reduced   \n",
       "4    male        group C                some college      standard   \n",
       "\n",
       "  test_preparation_course  math_score  reading_score  writing_score  \n",
       "0                    none          72             72             74  \n",
       "1               completed          69             90             88  \n",
       "2                    none          90             95             93  \n",
       "3                    none          47             57             44  \n",
       "4                    none          76             78             75  "
      ]
     },
     "execution_count": 50,
     "metadata": {},
     "output_type": "execute_result"
    }
   ],
   "source": [
    "df= pd.read_csv(\"data/stud.csv\")\n",
    "df.head()"
   ]
  },
  {
   "cell_type": "code",
   "execution_count": 51,
   "id": "cd094d26",
   "metadata": {},
   "outputs": [],
   "source": [
    "X = df.drop(['math_score'],axis=1)\n",
    "y=df['math_score']   # Target feature\n",
    "num_features = X.select_dtypes(include=[\"int64\",\"float64\",\"int32\",\"float32\"]).columns.to_list()\n",
    "cat_features = X.select_dtypes(include=['object','category']).columns.to_list()\n"
   ]
  },
  {
   "cell_type": "code",
   "execution_count": 52,
   "id": "72f197c7",
   "metadata": {},
   "outputs": [],
   "source": [
    "from sklearn.preprocessing import StandardScaler , OneHotEncoder\n",
    "from sklearn.compose import ColumnTransformer\n",
    "\n",
    "cat_encoder = OneHotEncoder()\n",
    "scaler = StandardScaler()\n",
    "\n",
    "preprocessor = ColumnTransformer(\n",
    "    [\n",
    "        (\"onehotencoder\",cat_encoder,cat_features),\n",
    "        (\"Scaler\",scaler,num_features)\n",
    "    ]\n",
    ")"
   ]
  },
  {
   "cell_type": "code",
   "execution_count": 53,
   "id": "7f38ccae",
   "metadata": {},
   "outputs": [],
   "source": [
    "X_train , X_test , y_train , y_test = train_test_split(X,y,test_size=0.15,shuffle=True,random_state = 42)\n",
    "X_train,X_val,y_train , y_val = train_test_split(X_train , y_train,test_size=0.2,random_state=42)"
   ]
  },
  {
   "cell_type": "code",
   "execution_count": 54,
   "id": "f6c493ab",
   "metadata": {},
   "outputs": [],
   "source": [
    "X_train = preprocessor.fit_transform(X_train)\n",
    "X_val = preprocessor.transform(X_val)\n",
    "X_test = preprocessor.transform(X_test)"
   ]
  },
  {
   "cell_type": "code",
   "execution_count": 55,
   "id": "c1157bb2",
   "metadata": {},
   "outputs": [],
   "source": [
    "def evaluation_metrics(true,predicted):\n",
    "    mae = mean_absolute_error(true,predicted)\n",
    "    mse = mean_squared_error(true,predicted)\n",
    "    rmse = np.sqrt(mse)\n",
    "    r2_square = r2_score(true,predicted)\n",
    "    return mae , mse , rmse ,  r2_square"
   ]
  },
  {
   "cell_type": "markdown",
   "id": "a9565339",
   "metadata": {},
   "source": [
    "## Model training and selection "
   ]
  },
  {
   "cell_type": "code",
   "execution_count": 56,
   "id": "c07a2342",
   "metadata": {},
   "outputs": [
    {
     "name": "stdout",
     "output_type": "stream",
     "text": [
      "model : [linear regression] trained\n",
      "===============================================\n",
      "training phase\n",
      "mae = 4.274784891256203 ,  mse = 28.675120978241456  , rmse = 5.354915590206951 , r2_square = 0.8734334365392029\n",
      "validation phase\n",
      "mae = 4.33952601859108 ,  mse = 28.828522546152453  , rmse = 5.369219919704579 , r2_square = 0.8612439314587456\n",
      "===============================================\n",
      "model : [lasso regression] trained\n",
      "===============================================\n",
      "training phase\n",
      "mae = 5.255453888365124 ,  mse = 44.22073817013429  , rmse = 6.649867530269629 , r2_square = 0.8048180208850568\n",
      "validation phase\n",
      "mae = 5.564277894118795 ,  mse = 48.00676313718052  , rmse = 6.928691300467969 , r2_square = 0.7689361393514973\n",
      "===============================================\n",
      "model : [Ridge regression] trained\n",
      "===============================================\n",
      "training phase\n",
      "mae = 4.2727670740778745 ,  mse = 28.679115770842746  , rmse = 5.355288579604534 , r2_square = 0.8734158042798075\n",
      "validation phase\n",
      "mae = 4.336974369708427 ,  mse = 28.83466036447544  , rmse = 5.369791463779151 , r2_square = 0.8612143892045925\n",
      "===============================================\n",
      "model : [SVM regressor] trained\n",
      "===============================================\n",
      "training phase\n",
      "mae = 5.0511946232839895 ,  mse = 47.660883222376995  , rmse = 6.903686205381658 , r2_square = 0.7896338709245594\n",
      "validation phase\n",
      "mae = 5.23727700659268 ,  mse = 44.25583095084697  , rmse = 6.652505614491954 , r2_square = 0.7869899470937175\n",
      "===============================================\n",
      "model : [decision tree] trained\n",
      "===============================================\n",
      "training phase\n",
      "mae = 0.014705882352941176 ,  mse = 0.07352941176470588  , rmse = 0.2711630722733202 , r2_square = 0.999675455075938\n",
      "validation phase\n",
      "mae = 7.311764705882353 ,  mse = 82.17058823529412  , rmse = 9.06479940402953 , r2_square = 0.6045004472567614\n",
      "===============================================\n",
      "model : [random forest] trained\n",
      "===============================================\n",
      "training phase\n",
      "mae = 1.7974828431372554 ,  mse = 5.295439146241832  , rmse = 2.3011821193121227 , r2_square = 0.976626932619947\n",
      "validation phase\n",
      "mae = 5.336647058823529 ,  mse = 40.705068823529416  , rmse = 6.38005241542179 , r2_square = 0.8040803058633355\n",
      "===============================================\n",
      "model : [catboost] trained\n",
      "===============================================\n",
      "training phase\n",
      "mae = 2.179572834384595 ,  mse = 7.714345434531019  , rmse = 2.7774710501697437 , r2_square = 0.9659503375159619\n",
      "validation phase\n",
      "mae = 4.644088741838661 ,  mse = 33.41342636179346  , rmse = 5.780434790030371 , r2_square = 0.8391760912813776\n",
      "===============================================\n",
      "model : [XGboost] trained\n",
      "===============================================\n",
      "training phase\n",
      "mae = 0.5215913653373718 ,  mse = 0.6140620708465576  , rmse = 0.7836211271057957 , r2_square = 0.9972896575927734\n",
      "validation phase\n",
      "mae = 5.668888092041016 ,  mse = 49.00438690185547  , rmse = 7.000313343119397 , r2_square = 0.764134407043457\n",
      "===============================================\n",
      "model : [Kneighbors] trained\n",
      "===============================================\n",
      "training phase\n",
      "mae = 4.54735294117647 ,  mse = 32.80994117647059  , rmse = 5.7279962619113665 , r2_square = 0.8551831218006791\n",
      "validation phase\n",
      "mae = 5.465882352941176 ,  mse = 49.93505882352942  , rmse = 7.066474285209663 , r2_square = 0.7596549586043924\n",
      "===============================================\n"
     ]
    }
   ],
   "source": [
    "# Model train\n",
    "models = {\n",
    "    'linear regression' : LinearRegression(),\n",
    "    'lasso regression' : Lasso(),\n",
    "    'Ridge regression' : Ridge(),\n",
    "    'SVM regressor' : SVR(),\n",
    "    'decision tree' : DecisionTreeRegressor(),\n",
    "    'random forest' : RandomForestRegressor(),\n",
    "    'catboost' : CatBoostRegressor(verbose=False),\n",
    "    'XGboost' : XGBRegressor(),\n",
    "    'Kneighbors' : KNeighborsRegressor(),\n",
    "}\n",
    "\n",
    "model_list =[]\n",
    "mae_error_list=[]\n",
    "mse_error_list=[]\n",
    "r2_error_list=[]\n",
    "\n",
    "for i in range(len(models)):\n",
    "    \n",
    "    model = list(models.values())[i]\n",
    "    model.fit(X_train , y_train)\n",
    "    model_list.append(list(models.keys())[i])\n",
    "    y_train_pred = model.predict(X_train)\n",
    "    y_val_pred = model.predict(X_val)\n",
    "\n",
    "    mae_t , mse_t , rmse_t, r2_square_t = evaluation_metrics(true=y_train , predicted=y_train_pred)\n",
    "    mae_v , mse_v , rmse_v , r2_square_v = evaluation_metrics(true = y_val , predicted= y_val_pred)\n",
    "\n",
    "    print(f\"model : [{list(models.keys())[i]}] trained\")\n",
    "    print(\"===============================================\")\n",
    "    print(\"training phase\")\n",
    "    print(f\"mae = {mae_t} ,  mse = {mse_t}  , rmse = {rmse_t} , r2_square = {r2_square_t}\")\n",
    "    print(\"validation phase\")\n",
    "    print(f\"mae = {mae_v} ,  mse = {mse_v}  , rmse = {rmse_v} , r2_square = {r2_square_v}\")\n",
    "    print(\"===============================================\")\n",
    "\n",
    "    mae_error_list.append(mae_v)\n",
    "    mse_error_list.append(mse_v)\n",
    "    r2_error_list.append(r2_square_v)\n"
   ]
  },
  {
   "cell_type": "code",
   "execution_count": 66,
   "id": "1e260390",
   "metadata": {},
   "outputs": [
    {
     "data": {
      "text/html": [
       "<div>\n",
       "<style scoped>\n",
       "    .dataframe tbody tr th:only-of-type {\n",
       "        vertical-align: middle;\n",
       "    }\n",
       "\n",
       "    .dataframe tbody tr th {\n",
       "        vertical-align: top;\n",
       "    }\n",
       "\n",
       "    .dataframe thead th {\n",
       "        text-align: right;\n",
       "    }\n",
       "</style>\n",
       "<table border=\"1\" class=\"dataframe\">\n",
       "  <thead>\n",
       "    <tr style=\"text-align: right;\">\n",
       "      <th></th>\n",
       "      <th>model</th>\n",
       "      <th>r2 accuracy</th>\n",
       "    </tr>\n",
       "  </thead>\n",
       "  <tbody>\n",
       "    <tr>\n",
       "      <th>0</th>\n",
       "      <td>linear regression</td>\n",
       "      <td>0.861244</td>\n",
       "    </tr>\n",
       "    <tr>\n",
       "      <th>2</th>\n",
       "      <td>Ridge regression</td>\n",
       "      <td>0.861214</td>\n",
       "    </tr>\n",
       "    <tr>\n",
       "      <th>6</th>\n",
       "      <td>catboost</td>\n",
       "      <td>0.839176</td>\n",
       "    </tr>\n",
       "    <tr>\n",
       "      <th>5</th>\n",
       "      <td>random forest</td>\n",
       "      <td>0.804080</td>\n",
       "    </tr>\n",
       "    <tr>\n",
       "      <th>3</th>\n",
       "      <td>SVM regressor</td>\n",
       "      <td>0.786990</td>\n",
       "    </tr>\n",
       "    <tr>\n",
       "      <th>1</th>\n",
       "      <td>lasso regression</td>\n",
       "      <td>0.768936</td>\n",
       "    </tr>\n",
       "    <tr>\n",
       "      <th>7</th>\n",
       "      <td>XGboost</td>\n",
       "      <td>0.764134</td>\n",
       "    </tr>\n",
       "    <tr>\n",
       "      <th>8</th>\n",
       "      <td>Kneighbors</td>\n",
       "      <td>0.759655</td>\n",
       "    </tr>\n",
       "    <tr>\n",
       "      <th>4</th>\n",
       "      <td>decision tree</td>\n",
       "      <td>0.604500</td>\n",
       "    </tr>\n",
       "  </tbody>\n",
       "</table>\n",
       "</div>"
      ],
      "text/plain": [
       "               model  r2 accuracy\n",
       "0  linear regression     0.861244\n",
       "2   Ridge regression     0.861214\n",
       "6           catboost     0.839176\n",
       "5      random forest     0.804080\n",
       "3      SVM regressor     0.786990\n",
       "1   lasso regression     0.768936\n",
       "7            XGboost     0.764134\n",
       "8         Kneighbors     0.759655\n",
       "4      decision tree     0.604500"
      ]
     },
     "execution_count": 66,
     "metadata": {},
     "output_type": "execute_result"
    }
   ],
   "source": [
    "# Choosing the best model according to R2 square metrics \n",
    "\n",
    "pd.DataFrame(list(zip(model_list,r2_error_list)),columns=['model','r2 accuracy']).sort_values(by=[\"r2 accuracy\"],ascending=False)"
   ]
  },
  {
   "cell_type": "code",
   "execution_count": 69,
   "id": "72020880",
   "metadata": {},
   "outputs": [],
   "source": [
    "X_train_full  = np.concatenate([X_train,X_val],axis=0)\n",
    "y_train_full = pd.concat([y_train,y_val],axis=0).to_numpy()\n"
   ]
  },
  {
   "cell_type": "code",
   "execution_count": 73,
   "id": "dab059c1",
   "metadata": {},
   "outputs": [
    {
     "name": "stdout",
     "output_type": "stream",
     "text": [
      "Training errors :\n",
      "mae = 4.278367178752692 ,  mse = 28.573075059558803  , rmse = 5.345378850891563 , r2_square = 0.8717602764283403\n",
      "===============================================\n",
      "model evaluation :- \n",
      "mae = 4.077417416986165 ,  mse = 27.591893072693054  , rmse = 5.252798594339312 , r2_square = 0.8946549786778092\n",
      "===============================================\n"
     ]
    }
   ],
   "source": [
    "final_model = LinearRegression()\n",
    "final_model.fit(X_train_full,y_train_full)\n",
    "y_pred_train = final_model.predict(X_train_full)\n",
    "y_pred_test = final_model.predict(X_test)\n",
    "\n",
    "mae_t , mse_t , rmse_t , r2_square_t = evaluation_metrics(y_train_full , y_pred_train)\n",
    "mae , mse , rmse , r2_square = evaluation_metrics(y_test , y_pred_test)\n",
    "\n",
    "\n",
    "print(\"Training errors :\")\n",
    "print(f\"mae = {mae_t} ,  mse = {mse_t}  , rmse = {rmse_t} , r2_square = {r2_square_t}\")\n",
    "print(\"===============================================\")\n",
    "print(\"model evaluation :- \")\n",
    "print(f\"mae = {mae} ,  mse = {mse}  , rmse = {rmse} , r2_square = {r2_square}\")\n",
    "print(\"===============================================\")\n"
   ]
  },
  {
   "cell_type": "markdown",
   "id": "9c339deb",
   "metadata": {},
   "source": [
    "#### The mean absolute error shows that the error in the math score prediction is about +- 4 degrees .\n",
    "\n",
    "the test set error is slightly better than the training set error due to the small size of the test set where lucky points that lies near the regression line have high impact"
   ]
  },
  {
   "cell_type": "code",
   "execution_count": 90,
   "id": "5e85fc26",
   "metadata": {},
   "outputs": [
    {
     "data": {
      "image/png": "[encoded data removed]",
      "text/plain": [
       "<Figure size 1400x600 with 2 Axes>"
      ]
     },
     "metadata": {},
     "output_type": "display_data"
    }
   ],
   "source": [
    "fig, axs = plt.subplots(1, 2, figsize=(14, 6))  \n",
    "\n",
    "axs[0].scatter(y_test, y_pred_test)\n",
    "axs[0].grid(True)\n",
    "axs[0].set_xlabel(\"Actual values\")\n",
    "axs[0].set_ylabel(\"Predicted values\")\n",
    "axs[0].set_title(\"Actual vs Predicted Maths scores\")\n",
    "\n",
    "sns.regplot(x=y_test, y=y_pred_test, color='red', ax=axs[1])\n",
    "axs[1].grid(True)\n",
    "axs[1].set_xlabel(\"Actual values\")\n",
    "axs[1].set_ylabel(\"Predicted values\")\n",
    "axs[1].set_title(\"Actual vs Predicted Maths Scores (RegPlot)\")\n",
    "\n",
    "plt.tight_layout()\n",
    "plt.show()"
   ]
  },
  {
   "cell_type": "code",
   "execution_count": null,
   "id": "a1feba02",
   "metadata": {},
   "outputs": [],
   "source": []
  }
 ],
 "metadata": {
  "kernelspec": {
   "display_name": "Python 3",
   "language": "python",
   "name": "python3"
  },
  "language_info": {
   "codemirror_mode": {
    "name": "ipython",
    "version": 3
   },
   "file_extension": ".py",
   "mimetype": "text/x-python",
   "name": "python",
   "nbconvert_exporter": "python",
   "pygments_lexer": "ipython3",
   "version": "3.12.7"
  }
 },
 "nbformat": 4,
 "nbformat_minor": 5
}
